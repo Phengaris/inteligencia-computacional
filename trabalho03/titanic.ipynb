{
  "nbformat": 4,
  "nbformat_minor": 0,
  "metadata": {
    "colab": {
      "name": "titanic.ipynb",
      "provenance": [],
      "collapsed_sections": [
        "AbFj6qqhkyc6",
        "21XFu_-Akx6n",
        "8I-AN2RLk87t",
        "2PMByi2Qqo94",
        "oy_fOyGrWdcw",
        "cqHJBeAscf3H",
        "DhMJbkgaciGU",
        "Dr710RTuiWvJ",
        "59rMcqOHim8J"
      ]
    },
    "kernelspec": {
      "name": "python3",
      "display_name": "Python 3"
    }
  },
  "cells": [
    {
      "cell_type": "markdown",
      "metadata": {
        "id": "seLUmEz_m8PE"
      },
      "source": [
        "# Introdução\n",
        "Estre trabalho tem como objetivo a implementação do KNN e a previsão de sobreviventes do titanic utilizando os dados do kaggle. \n",
        "\n",
        "A previsão deve ser feita utilizando KNN e árvores de decisões, por último deve-se comparar qual previsão obteve os melhores resultados baseado nos parâmetros de acurácia, matriz de confusão, precisão, sensibilidade e F1-Score.\n"
      ]
    },
    {
      "cell_type": "markdown",
      "metadata": {
        "id": "AbFj6qqhkyc6"
      },
      "source": [
        "# 1. Importação das bibliotecas\n",
        "Importação das bibliotecas necessárias para a execução do código."
      ]
    },
    {
      "cell_type": "code",
      "metadata": {
        "id": "Gpjx_aSJkBsd"
      },
      "source": [
        "import pandas as pd\n",
        "import matplotlib.pyplot as plt\n",
        "import numpy as np\n",
        "import seaborn as sns\n",
        "\n",
        "from sklearn.model_selection import train_test_split\n",
        "from sklearn import metrics\n",
        "from sklearn import tree\n",
        "from math import sqrt"
      ],
      "execution_count": null,
      "outputs": []
    },
    {
      "cell_type": "markdown",
      "metadata": {
        "id": "21XFu_-Akx6n"
      },
      "source": [
        "# 2. Leitura dos dados de trenamento\n",
        "Leitura dos dados do arquivo de trenamento 'train.csv' e amostragem dos dados."
      ]
    },
    {
      "cell_type": "code",
      "metadata": {
        "colab": {
          "base_uri": "https://localhost:8080/"
        },
        "id": "P8crNX4Ll2Ar",
        "outputId": "cf80db2b-61e2-4031-bed1-b8f791ec2d2a"
      },
      "source": [
        "#ler data frame do arquivo de trenamento\n",
        "df_train = pd.read_csv('train.csv')\n",
        "\n",
        "#mostrar detalhes do arquivo de trenamento\n",
        "df_train.head()"
      ],
      "execution_count": null,
      "outputs": [
        {
          "output_type": "execute_result",
          "data": {
            "text/html": [
              "<div>\n",
              "<style scoped>\n",
              "    .dataframe tbody tr th:only-of-type {\n",
              "        vertical-align: middle;\n",
              "    }\n",
              "\n",
              "    .dataframe tbody tr th {\n",
              "        vertical-align: top;\n",
              "    }\n",
              "\n",
              "    .dataframe thead th {\n",
              "        text-align: right;\n",
              "    }\n",
              "</style>\n",
              "<table border=\"1\" class=\"dataframe\">\n",
              "  <thead>\n",
              "    <tr style=\"text-align: right;\">\n",
              "      <th></th>\n",
              "      <th>PassengerId</th>\n",
              "      <th>Survived</th>\n",
              "      <th>Pclass</th>\n",
              "      <th>Name</th>\n",
              "      <th>Sex</th>\n",
              "      <th>Age</th>\n",
              "      <th>SibSp</th>\n",
              "      <th>Parch</th>\n",
              "      <th>Ticket</th>\n",
              "      <th>Fare</th>\n",
              "      <th>Cabin</th>\n",
              "      <th>Embarked</th>\n",
              "    </tr>\n",
              "  </thead>\n",
              "  <tbody>\n",
              "    <tr>\n",
              "      <th>0</th>\n",
              "      <td>1</td>\n",
              "      <td>0</td>\n",
              "      <td>3</td>\n",
              "      <td>Braund, Mr. Owen Harris</td>\n",
              "      <td>male</td>\n",
              "      <td>22.0</td>\n",
              "      <td>1</td>\n",
              "      <td>0</td>\n",
              "      <td>A/5 21171</td>\n",
              "      <td>7.2500</td>\n",
              "      <td>NaN</td>\n",
              "      <td>S</td>\n",
              "    </tr>\n",
              "    <tr>\n",
              "      <th>1</th>\n",
              "      <td>2</td>\n",
              "      <td>1</td>\n",
              "      <td>1</td>\n",
              "      <td>Cumings, Mrs. John Bradley (Florence Briggs Th...</td>\n",
              "      <td>female</td>\n",
              "      <td>38.0</td>\n",
              "      <td>1</td>\n",
              "      <td>0</td>\n",
              "      <td>PC 17599</td>\n",
              "      <td>71.2833</td>\n",
              "      <td>C85</td>\n",
              "      <td>C</td>\n",
              "    </tr>\n",
              "    <tr>\n",
              "      <th>2</th>\n",
              "      <td>3</td>\n",
              "      <td>1</td>\n",
              "      <td>3</td>\n",
              "      <td>Heikkinen, Miss. Laina</td>\n",
              "      <td>female</td>\n",
              "      <td>26.0</td>\n",
              "      <td>0</td>\n",
              "      <td>0</td>\n",
              "      <td>STON/O2. 3101282</td>\n",
              "      <td>7.9250</td>\n",
              "      <td>NaN</td>\n",
              "      <td>S</td>\n",
              "    </tr>\n",
              "    <tr>\n",
              "      <th>3</th>\n",
              "      <td>4</td>\n",
              "      <td>1</td>\n",
              "      <td>1</td>\n",
              "      <td>Futrelle, Mrs. Jacques Heath (Lily May Peel)</td>\n",
              "      <td>female</td>\n",
              "      <td>35.0</td>\n",
              "      <td>1</td>\n",
              "      <td>0</td>\n",
              "      <td>113803</td>\n",
              "      <td>53.1000</td>\n",
              "      <td>C123</td>\n",
              "      <td>S</td>\n",
              "    </tr>\n",
              "    <tr>\n",
              "      <th>4</th>\n",
              "      <td>5</td>\n",
              "      <td>0</td>\n",
              "      <td>3</td>\n",
              "      <td>Allen, Mr. William Henry</td>\n",
              "      <td>male</td>\n",
              "      <td>35.0</td>\n",
              "      <td>0</td>\n",
              "      <td>0</td>\n",
              "      <td>373450</td>\n",
              "      <td>8.0500</td>\n",
              "      <td>NaN</td>\n",
              "      <td>S</td>\n",
              "    </tr>\n",
              "  </tbody>\n",
              "</table>\n",
              "</div>"
            ],
            "text/plain": [
              "   PassengerId  Survived  Pclass  ...     Fare Cabin  Embarked\n",
              "0            1         0       3  ...   7.2500   NaN         S\n",
              "1            2         1       1  ...  71.2833   C85         C\n",
              "2            3         1       3  ...   7.9250   NaN         S\n",
              "3            4         1       1  ...  53.1000  C123         S\n",
              "4            5         0       3  ...   8.0500   NaN         S\n",
              "\n",
              "[5 rows x 12 columns]"
            ]
          },
          "metadata": {
            "tags": []
          },
          "execution_count": 226
        }
      ]
    },
    {
      "cell_type": "markdown",
      "metadata": {
        "id": "8I-AN2RLk87t"
      },
      "source": [
        "# 3. Remoção de dados\n",
        "Observando a amostragem dos dados no passo 2 é possível analisar que existem colunas que não interferem na probabilidade daquele tripulante sobreviver ou não.\n",
        "\n",
        "Essas colunas são removidas dos dados de trenamento."
      ]
    },
    {
      "cell_type": "code",
      "metadata": {
        "id": "prkcaP8lq7Nv"
      },
      "source": [
        "#colunas a serem removidas\n",
        "drop_columns = ['PassengerId',\n",
        "                'Name',\n",
        "                'SibSp',\n",
        "                'Parch',\n",
        "                'Ticket',\n",
        "                'Cabin']\n",
        "\n",
        "df_train = df_train.drop(drop_columns, axis=1)"
      ],
      "execution_count": null,
      "outputs": []
    },
    {
      "cell_type": "markdown",
      "metadata": {
        "id": "2PMByi2Qqo94"
      },
      "source": [
        "# 4. Atribuição de valores em células nulas\n",
        "Observando os dados de trenamento é possível verificar que possuem células sem valores. O processo precisa de valores nessas células, por isso são atribuídos à estas células vazias os valores que ocorrem com mais frequência."
      ]
    },
    {
      "cell_type": "code",
      "metadata": {
        "colab": {
          "base_uri": "https://localhost:8080/"
        },
        "id": "0PoTc2fdpK-W",
        "outputId": "2a8abb90-04df-48b8-a4a8-a2e9dc3cc58c"
      },
      "source": [
        "print('Número de células sem valores nos dados de trenamento: ')\n",
        "print(df_train.isnull().sum())\n",
        "print('\\n')\n",
        "\n",
        "#preencher as células das colunas Age e Embarked que são nulas\n",
        "df_train[\"Age\"] = df_train[\"Age\"].fillna(df_train[\"Age\"].median())\n",
        "\n",
        "df_train[\"Embarked\"] = df_train[\"Embarked\"].fillna(df_train[\"Embarked\"].mode()[0])\n",
        "\n",
        "print('Número de células sem valores nos dados de trenamento depois de preencher os dados: ')\n",
        "print(df_train.isnull().sum())\n",
        "print('\\n')"
      ],
      "execution_count": null,
      "outputs": [
        {
          "output_type": "stream",
          "text": [
            "Número de células sem valores nos dados de trenamento: \n",
            "Survived      0\n",
            "Pclass        0\n",
            "Sex           0\n",
            "Age         177\n",
            "Fare          0\n",
            "Embarked      2\n",
            "dtype: int64\n",
            "\n",
            "\n",
            "Número de células sem valores nos dados de trenamento depois de preencher os dados: \n",
            "Survived    0\n",
            "Pclass      0\n",
            "Sex         0\n",
            "Age         0\n",
            "Fare        0\n",
            "Embarked    0\n",
            "dtype: int64\n",
            "\n",
            "\n"
          ],
          "name": "stdout"
        }
      ]
    },
    {
      "cell_type": "markdown",
      "metadata": {
        "id": "oy_fOyGrWdcw"
      },
      "source": [
        "# 5. Relação entre as colunas e sobrevivência\n",
        "Para encontrar a relação das colunas com a probabilidade de sobrevivência, foram criados gráficos que facilitam a visualização dessa relação. Os Gráficos de \"Age\" e \"Fare\" foram criados com o valor médio, visto que são muitos dados para criar um gráfico para cada valor."
      ]
    },
    {
      "cell_type": "code",
      "metadata": {
        "colab": {
          "base_uri": "https://localhost:8080/"
        },
        "id": "VKzCzq03XR9G",
        "outputId": "1bbec129-a303-4bb4-cb4a-343abd560017"
      },
      "source": [
        "sns.countplot(x='Pclass', data=df_train, hue='Survived')"
      ],
      "execution_count": null,
      "outputs": [
        {
          "output_type": "execute_result",
          "data": {
            "text/plain": [
              "<matplotlib.axes._subplots.AxesSubplot at 0x7f1513583be0>"
            ]
          },
          "metadata": {
            "tags": []
          },
          "execution_count": 229
        },
        {
          "output_type": "display_data",
          "data": {
            "image/png": "[encoded data removed]",
            "text/plain": [
              "<Figure size 432x288 with 1 Axes>"
            ]
          },
          "metadata": {
            "tags": [],
            "needs_background": "light"
          }
        }
      ]
    },
    {
      "cell_type": "code",
      "metadata": {
        "colab": {
          "base_uri": "https://localhost:8080/"
        },
        "id": "9MRvOj1AzHVI",
        "outputId": "f7dabeaa-f143-4e4a-8910-01c479bc8c91"
      },
      "source": [
        "# média de idades dos sobreviventes\n",
        "plt.figure(figsize=(10, 5))\n",
        "sns.boxplot(x='Survived', y='Age', data=df_train)\n",
        "\n",
        "print(df_train.groupby('Survived').mean()[['Age']])"
      ],
      "execution_count": null,
      "outputs": [
        {
          "output_type": "stream",
          "text": [
            "                Age\n",
            "Survived           \n",
            "0         30.028233\n",
            "1         28.291433\n"
          ],
          "name": "stdout"
        },
        {
          "output_type": "display_data",
          "data": {
            "image/png": "[encoded data removed]",
            "text/plain": [
              "<Figure size 720x360 with 1 Axes>"
            ]
          },
          "metadata": {
            "tags": [],
            "needs_background": "light"
          }
        }
      ]
    },
    {
      "cell_type": "code",
      "metadata": {
        "colab": {
          "base_uri": "https://localhost:8080/"
        },
        "id": "PXDKzYV4zWbl",
        "outputId": "95cf6bec-742e-4433-aa0d-387457510a58"
      },
      "source": [
        "# média da tarifa dos sobreviventes\n",
        "plt.figure(figsize=(10, 5))\n",
        "sns.boxplot(x='Survived', y='Fare', data=df_train)\n",
        "\n",
        "print(df_train.groupby('Survived').mean()[['Fare']])"
      ],
      "execution_count": null,
      "outputs": [
        {
          "output_type": "stream",
          "text": [
            "               Fare\n",
            "Survived           \n",
            "0         22.117887\n",
            "1         48.395408\n"
          ],
          "name": "stdout"
        },
        {
          "output_type": "display_data",
          "data": {
            "image/png": "[encoded data removed]",
            "text/plain": [
              "<Figure size 720x360 with 1 Axes>"
            ]
          },
          "metadata": {
            "tags": [],
            "needs_background": "light"
          }
        }
      ]
    },
    {
      "cell_type": "code",
      "metadata": {
        "colab": {
          "base_uri": "https://localhost:8080/"
        },
        "id": "29H3jWQ5YJRx",
        "outputId": "1f4aef9f-0911-4ecd-f400-da972ec5df01"
      },
      "source": [
        "sns.countplot(x='Sex', data=df_train, hue='Survived')"
      ],
      "execution_count": null,
      "outputs": [
        {
          "output_type": "execute_result",
          "data": {
            "text/plain": [
              "<matplotlib.axes._subplots.AxesSubplot at 0x7f1513a1df60>"
            ]
          },
          "metadata": {
            "tags": []
          },
          "execution_count": 232
        },
        {
          "output_type": "display_data",
          "data": {
            "image/png": "[encoded data removed]",
            "text/plain": [
              "<Figure size 432x288 with 1 Axes>"
            ]
          },
          "metadata": {
            "tags": [],
            "needs_background": "light"
          }
        }
      ]
    },
    {
      "cell_type": "code",
      "metadata": {
        "colab": {
          "base_uri": "https://localhost:8080/"
        },
        "id": "v1SilPTAYK0H",
        "outputId": "1a5ce65d-116e-4545-969f-6e9465cd2feb"
      },
      "source": [
        "sns.countplot(x='Embarked', data=df_train, hue='Survived')"
      ],
      "execution_count": null,
      "outputs": [
        {
          "output_type": "execute_result",
          "data": {
            "text/plain": [
              "<matplotlib.axes._subplots.AxesSubplot at 0x7f1514914e80>"
            ]
          },
          "metadata": {
            "tags": []
          },
          "execution_count": 233
        },
        {
          "output_type": "display_data",
          "data": {
            "image/png": "[encoded data removed]",
            "text/plain": [
              "<Figure size 432x288 with 1 Axes>"
            ]
          },
          "metadata": {
            "tags": [],
            "needs_background": "light"
          }
        }
      ]
    },
    {
      "cell_type": "markdown",
      "metadata": {
        "id": "hQd1b9G-WeDt"
      },
      "source": [
        "# 6.Transformação em valores de texto\n",
        "Para conseguir lidar com os valores de forma matemática, os valores de Sexo e de Embarcado são transformadas para valores numéricos."
      ]
    },
    {
      "cell_type": "code",
      "metadata": {
        "id": "G5Vqu_8vXBfH"
      },
      "source": [
        "df_train['Sex'] = df_train['Sex'].map({'female': 0, 'male': 1}).astype(int)\n",
        "\n",
        "df_train['Embarked'] = df_train['Embarked'].map({'S': 0, 'C': 1, 'Q': 2}).astype(int)"
      ],
      "execution_count": null,
      "outputs": []
    },
    {
      "cell_type": "markdown",
      "metadata": {
        "id": "cqHJBeAscf3H"
      },
      "source": [
        "# 7. Leitura dos dados de teste\n",
        "Leitura dos dados do arquivo de teste 'test.csv' e cópia dos dados para backup."
      ]
    },
    {
      "cell_type": "code",
      "metadata": {
        "id": "o4J8WWPXcgKX"
      },
      "source": [
        "#ler data frame do arquivo de teste\n",
        "df_test = pd.read_csv(\"test.csv\")\n",
        "\n",
        "#criar cópias do arquivo\n",
        "df_test_copy = df_test.copy()"
      ],
      "execution_count": null,
      "outputs": []
    },
    {
      "cell_type": "markdown",
      "metadata": {
        "id": "DhMJbkgaciGU"
      },
      "source": [
        "# 8. Remoção de dados\n",
        "Para o arquivo de teste ter os mesmos dados de trenamento é realizado a remoção das colunas que não interferem na probabilidade daquele tripulante sobreviver ou não.\n"
      ]
    },
    {
      "cell_type": "code",
      "metadata": {
        "id": "WaU5J8PvcitG"
      },
      "source": [
        "#colunas a serem removidas\n",
        "drop_columns = ['PassengerId',\n",
        "                'Name',\n",
        "                'SibSp',\n",
        "                'Parch',\n",
        "                'Ticket',\n",
        "                'Cabin']\n",
        "\n",
        "df_test = df_test.drop(drop_columns, axis=1)"
      ],
      "execution_count": null,
      "outputs": []
    },
    {
      "cell_type": "markdown",
      "metadata": {
        "id": "Dr710RTuiWvJ"
      },
      "source": [
        "# 9. Atribuição de valores em células nulas\n",
        "Observando os dados de teste é possível verificar que possuem células sem valores. O processo precisa de valores nessas células, por isso são atribuídos à estas células vazias os valores que ocorrem com mais frequência."
      ]
    },
    {
      "cell_type": "code",
      "metadata": {
        "colab": {
          "base_uri": "https://localhost:8080/"
        },
        "id": "GXuXlZxpe7bY",
        "outputId": "62fd7b94-6663-43c8-b3de-6f8f6bb9cbbc"
      },
      "source": [
        "print('Número de células sem valores nos dados de teste: ')\n",
        "print(df_test.isnull().sum())\n",
        "print('\\n')\n",
        "\n",
        "#preencher as células das colunas Age, Fare e Embarked que são nulas\n",
        "df_test[\"Age\"] = df_test[\"Age\"].fillna(df_test[\"Age\"].median())\n",
        "\n",
        "df_test[\"Fare\"] = df_test[\"Fare\"].fillna(df_test[\"Fare\"].mode()[0])\n",
        "\n",
        "df_test[\"Embarked\"] = df_test[\"Embarked\"].fillna(df_test[\"Embarked\"].mode()[0])\n",
        "\n",
        "print('Número de células sem valores nos dados de teste depois de preencher os dados: ')\n",
        "print(df_test.isnull().sum())\n",
        "print('\\n')"
      ],
      "execution_count": null,
      "outputs": [
        {
          "output_type": "stream",
          "text": [
            "Número de células sem valores nos dados de teste: \n",
            "Pclass       0\n",
            "Sex          0\n",
            "Age         86\n",
            "Fare         1\n",
            "Embarked     0\n",
            "dtype: int64\n",
            "\n",
            "\n",
            "Número de células sem valores nos dados de teste depois de preencher os dados: \n",
            "Pclass      0\n",
            "Sex         0\n",
            "Age         0\n",
            "Fare        0\n",
            "Embarked    0\n",
            "dtype: int64\n",
            "\n",
            "\n"
          ],
          "name": "stdout"
        }
      ]
    },
    {
      "cell_type": "markdown",
      "metadata": {
        "id": "59rMcqOHim8J"
      },
      "source": [
        "# 10.Transformação em valores de texto\n",
        "Para conseguir lidar com os valores de forma matemática, os valores de Sexo e de Embarcado são transformadas para valores numéricos."
      ]
    },
    {
      "cell_type": "code",
      "metadata": {
        "id": "DUWyUyFPfIZV"
      },
      "source": [
        "df_test['Sex'] = df_test['Sex'].map({'female': 0, 'male': 1}).astype(int)\n",
        "\n",
        "df_test['Embarked'] = df_test['Embarked'].map({'S': 0, 'C': 1, 'Q': 2}).astype(int)"
      ],
      "execution_count": null,
      "outputs": []
    },
    {
      "cell_type": "markdown",
      "metadata": {
        "id": "IIGYyIkecn0b"
      },
      "source": [
        "# 11. Utilização do modelo e submissão dos resultados"
      ]
    },
    {
      "cell_type": "markdown",
      "metadata": {
        "id": "d_genqhjP0EV"
      },
      "source": [
        "Criação do Algoritmo do KNN"
      ]
    },
    {
      "cell_type": "code",
      "metadata": {
        "id": "H9MTTHSU4-nj"
      },
      "source": [
        "def knn_predict(df_test, df_train, k):\n",
        "  features = ['Pclass','Age','Fare','Sex','Embarked']\n",
        "  all_features = ['Pclass','Age','Fare','Sex','Embarked', 'Survived']\n",
        "\n",
        "  x_test = df_test[features].to_numpy()\n",
        "  x_train = df_train[features].to_numpy()\n",
        "  y_train = df_train['Survived'].tolist()\n",
        "\n",
        "  _, _, _, y_test = \\\n",
        "    train_test_split(x_train, y_train, test_size=0.3, random_state=42)\n",
        "\n",
        "  xy_train = df_train[all_features].to_numpy()\n",
        "\n",
        "  predictions = []\n",
        "\n",
        "  for test_item in x_test:\n",
        "    distances = list()\n",
        "\n",
        "    for train_item in xy_train:\n",
        "      \n",
        "      #calcula a distância euclidiana\n",
        "      distance = 0.0\n",
        "\n",
        "      for idx in range(len(test_item) - 1):\n",
        "        distance += (test_item[idx] - train_item[idx]) ** 2\n",
        "\n",
        "      euclidean_distance =  sqrt(distance)\n",
        "      ##\n",
        "      distances.append((train_item, euclidean_distance))\n",
        "\n",
        "    distances.sort(key=lambda tup: tup[1])\n",
        "    \n",
        "    #seleciona os vizinhos\n",
        "    neighbors = list()\n",
        "    for i in range(k):\n",
        "        neighbors.append(distances[i][0])\n",
        "    ##\n",
        "\n",
        "    output_values = [row[-1] for row in neighbors]\n",
        "\n",
        "    predictions.append(max(set(output_values), key=output_values.count))\n",
        "\n",
        "  print_knn_scores(predictions, y_test)\n",
        "  return predictions\n",
        "\n",
        "def print_knn_scores(predictions, y_test):\n",
        "  print(\"KNN Scores: \")\n",
        "  print(\"Matriz de confusão:\\n\", np.array(confusion_matrix(y_test, predictions)))\n",
        "  print(\"Acurácia: \", accuracy_score(y_test, predictions))\n",
        "  print(\"Precisão: \", precision_score(y_test, predictions))\n",
        "  print(\"F1-score: \", f1_score(y_test, predictions))\n",
        "  print('\\n')\n",
        "\n",
        "def confusion_matrix(test_set, predicted_set):\n",
        "  matrix = [[0, 0],\n",
        "            [0, 0]]\n",
        "  for i in range(len(test_set)):\n",
        "    matrix[int(test_set[i])][int(predicted_set[i])] += 1\n",
        "  return matrix\n",
        "\n",
        "def accuracy_score(test_set, predicted_set):\n",
        "  correct_predictions = 0\n",
        "  for i in range(len(test_set)):\n",
        "    if test_set[i] == predicted_set[i]:\n",
        "      correct_predictions += 1\n",
        "  return correct_predictions / len(test_set)\n",
        "\n",
        "def precision_score(test_set, predicted_set):\n",
        "  matrix = confusion_matrix(test_set, predicted_set)\n",
        "  return matrix[0][0] / (matrix[0][0] + matrix[1][0])\n",
        "\n",
        "def recall_score(test_set, predicted_set):\n",
        "  matrix = confusion_matrix(test_set, predicted_set)\n",
        "  return matrix[0][0] / (matrix[0][0] + matrix[0][1])\n",
        "\n",
        "\n",
        "def f1_score(test_set, predicted_set):\n",
        "  precision = precision_score(test_set, predicted_set)\n",
        "  recall = recall_score(test_set, predicted_set)\n",
        "  return (2 * precision * recall) / (precision + recall)\n"
      ],
      "execution_count": null,
      "outputs": []
    },
    {
      "cell_type": "markdown",
      "metadata": {
        "id": "8fNjqDZ0P3Oi"
      },
      "source": [
        "Previsão utilizando KNN"
      ]
    },
    {
      "cell_type": "code",
      "metadata": {
        "id": "AFGh6reWajab",
        "colab": {
          "base_uri": "https://localhost:8080/"
        },
        "outputId": "f332788c-c6dc-4507-b403-ce3539f81683"
      },
      "source": [
        "result = knn_predict(df_test, df_train, 29)\n",
        "\n",
        "submit = df_test_copy[['PassengerId']].copy()\n",
        "submit['Survived'] = result\n",
        "\n",
        "print('Tamanho do vetor de sobreviventes: ', len(result))\n",
        "print(submit.head())\n",
        "\n",
        "submit.to_csv('result_knn_titanic.csv', index=False)"
      ],
      "execution_count": null,
      "outputs": [
        {
          "output_type": "stream",
          "text": [
            "KNN Scores: \n",
            "Matriz de confusão:\n",
            " [[114  43]\n",
            " [ 84  27]]\n",
            "Acurácia:  0.5261194029850746\n",
            "Precisão:  0.5757575757575758\n",
            "F1-score:  0.6422535211267606\n",
            "\n",
            "\n",
            "Tamanho do vetor de sobreviventes:  418\n",
            "   PassengerId  Survived\n",
            "0          892       0.0\n",
            "1          893       0.0\n",
            "2          894       0.0\n",
            "3          895       0.0\n",
            "4          896       0.0\n"
          ],
          "name": "stdout"
        }
      ]
    },
    {
      "cell_type": "code",
      "metadata": {
        "colab": {
          "base_uri": "https://localhost:8080/",
          "height": 297
        },
        "id": "BGVo3e9WuVQg",
        "outputId": "6fe5de72-f23a-4986-c101-88db8961e176"
      },
      "source": [
        "df_result = pd.read_csv('result_knn_titanic.csv')\n",
        "sns.countplot(x='Survived', data=df_result, hue='Survived')"
      ],
      "execution_count": null,
      "outputs": [
        {
          "output_type": "execute_result",
          "data": {
            "text/plain": [
              "<matplotlib.axes._subplots.AxesSubplot at 0x7f15131d59b0>"
            ]
          },
          "metadata": {
            "tags": []
          },
          "execution_count": 241
        },
        {
          "output_type": "display_data",
          "data": {
            "image/png": "[encoded data removed]",
            "text/plain": [
              "<Figure size 432x288 with 1 Axes>"
            ]
          },
          "metadata": {
            "tags": [],
            "needs_background": "light"
          }
        }
      ]
    },
    {
      "cell_type": "markdown",
      "metadata": {
        "id": "6-fltMdB0ZlQ"
      },
      "source": [
        "Previsão utilizando árvore de decisão"
      ]
    },
    {
      "cell_type": "code",
      "metadata": {
        "colab": {
          "base_uri": "https://localhost:8080/"
        },
        "id": "ruEuG-qY0Z8d",
        "outputId": "0c01bcfd-cb4e-4e69-9909-5170962e4e1b"
      },
      "source": [
        "features = ['Pclass','Age','Fare','Sex','Embarked']\n",
        "df_x = df_train.filter(features, axis=1)\n",
        "df_y = df_train['Survived']\n",
        "\n",
        "_, _, _, y_test = \\\n",
        "  train_test_split(df_x, df_y, test_size=0.469, random_state=40)\n",
        "\n",
        "clf = tree.DecisionTreeClassifier()\n",
        "\n",
        "clf.fit(df_x, df_y)\n",
        "\n",
        "preds_test = clf.predict(df_test[features])\n",
        "\n",
        "\n",
        "print('Matriz de confusão: \\n', metrics.confusion_matrix(y_test, preds_test))\n",
        "print('Acurácia: ', metrics.accuracy_score(y_test, preds_test))\n",
        "print('Precisão: ', metrics.precision_score(y_test, preds_test))\n",
        "print('Recall: ', metrics.recall_score(y_test, preds_test))\n",
        "print('F1-Score: ', metrics.f1_score(y_test, preds_test))\n",
        "\n",
        "submission = pd.DataFrame({ 'PassengerId': df_test_copy['PassengerId'],\n",
        "                            'Survived': preds_test }, dtype=int)\n",
        "submission.to_csv(\"result_tree_titanic.csv\",index=False)\n"
      ],
      "execution_count": null,
      "outputs": [
        {
          "output_type": "stream",
          "text": [
            "Matriz de confusão: \n",
            " [[162 100]\n",
            " [ 87  69]]\n",
            "Acurácia:  0.5526315789473685\n",
            "Precisão:  0.40828402366863903\n",
            "Recall:  0.4423076923076923\n",
            "F1-Score:  0.4246153846153846\n"
          ],
          "name": "stdout"
        }
      ]
    },
    {
      "cell_type": "code",
      "metadata": {
        "colab": {
          "base_uri": "https://localhost:8080/",
          "height": 297
        },
        "id": "fhJgjS471RG-",
        "outputId": "c35f8a76-9e00-48b1-9b87-4520917a18d5"
      },
      "source": [
        "df_result = pd.read_csv('result_tree_titanic.csv')\n",
        "sns.countplot(x='Survived', data=df_result, hue='Survived')"
      ],
      "execution_count": null,
      "outputs": [
        {
          "output_type": "execute_result",
          "data": {
            "text/plain": [
              "<matplotlib.axes._subplots.AxesSubplot at 0x7f1513155f98>"
            ]
          },
          "metadata": {
            "tags": []
          },
          "execution_count": 243
        },
        {
          "output_type": "display_data",
          "data": {
            "image/png": "[encoded data removed]",
            "text/plain": [
              "<Figure size 432x288 with 1 Axes>"
            ]
          },
          "metadata": {
            "tags": [],
            "needs_background": "light"
          }
        }
      ]
    },
    {
      "cell_type": "markdown",
      "metadata": {
        "id": "558Krm38nALw"
      },
      "source": [
        "# Conclusão\n",
        "Neste trabalho foi apresentado o KNN e as árvores de decisão para a resolução do problema dos sobreviventes do titanic. Baseando-se nos dados de matriz de confusão, acurácia, precisão e F1-Score é possível analisar que o algoritmo do KNN teve resultados melhores que a Árvore de decisão."
      ]
    },
    {
      "cell_type": "markdown",
      "metadata": {
        "id": "lDbq_FXBS_2S"
      },
      "source": [
        "# Referências\n",
        "https://www.kaggle.com/c/titanic"
      ]
    }
  ]
}